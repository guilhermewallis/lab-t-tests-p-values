{
 "cells": [
  {
   "cell_type": "markdown",
   "id": "e27fcc5f",
   "metadata": {},
   "source": [
    "## 1. Machines"
   ]
  },
  {
   "cell_type": "code",
   "execution_count": 25,
   "id": "b6798b0d",
   "metadata": {},
   "outputs": [],
   "source": [
    "import statistics\n",
    "import math\n",
    "import numpy as np\n",
    "from scipy.stats import ttest_ind, norm"
   ]
  },
  {
   "cell_type": "code",
   "execution_count": 16,
   "id": "2627eb7e",
   "metadata": {},
   "outputs": [
    {
     "name": "stdout",
     "output_type": "stream",
     "text": [
      "42.14\n",
      "43.230000000000004\n"
     ]
    }
   ],
   "source": [
    "new_machine_tests = [42.1, 41, 41.3, 41.8, 42.4, 42.8, 43.2, 42.3, 41.8, 42.7]\n",
    "old_machine_tests = [42.7, 43.6, 43.8, 43.3, 42.5, 43.5, 43.1, 41.7, 44, 44.1]\n",
    " \n",
    "new_machine_mean = statistics.mean(new_machine_tests)\n",
    "old_machine_mean = statistics.mean(old_machine_tests)\n",
    "print(new_machine_mean)\n",
    "print(old_machine_mean)"
   ]
  },
  {
   "cell_type": "markdown",
   "id": "6e1f690f",
   "metadata": {},
   "source": [
    "* H0: u = 43.23\n",
    "* Ha: u < 43.23"
   ]
  },
  {
   "cell_type": "code",
   "execution_count": 20,
   "id": "87eff1fa",
   "metadata": {},
   "outputs": [
    {
     "data": {
      "text/plain": [
       "-5.316124512154909"
      ]
     },
     "execution_count": 20,
     "metadata": {},
     "output_type": "execute_result"
    }
   ],
   "source": [
    "pop_mean = 43.23\n",
    "\n",
    "n = 10\n",
    "sample_mean = 42.14\n",
    "sample_std = np.std(new_machine_tests)\n",
    "\n",
    "statistic = (sample_mean - pop_mean)/(sample_std/math.sqrt(n))\n",
    "statistic"
   ]
  },
  {
   "cell_type": "markdown",
   "id": "eb634850",
   "metadata": {},
   "source": [
    "#### T-table: one-tailed alpha 0.05 9DF = 1.833\n",
    "* abs(-5.316) > 1.66 - null hypothesis rejected with 95% confidence\n",
    "\n",
    "#### Results show a statistical significance in the average packing time of the two machines:\n",
    "* the new machine is faster than the old machine"
   ]
  }
 ],
 "metadata": {
  "kernelspec": {
   "display_name": "Python 3 (ipykernel)",
   "language": "python",
   "name": "python3"
  },
  "language_info": {
   "codemirror_mode": {
    "name": "ipython",
    "version": 3
   },
   "file_extension": ".py",
   "mimetype": "text/x-python",
   "name": "python",
   "nbconvert_exporter": "python",
   "pygments_lexer": "ipython3",
   "version": "3.10.9"
  }
 },
 "nbformat": 4,
 "nbformat_minor": 5
}
